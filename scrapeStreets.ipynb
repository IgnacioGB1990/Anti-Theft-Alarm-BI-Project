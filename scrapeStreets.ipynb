{
 "cells": [
  {
   "cell_type": "code",
   "execution_count": 2,
   "metadata": {},
   "outputs": [],
   "source": [
    "import requests\n",
    "from bs4 import BeautifulSoup\n",
    "\n",
    "# Step 1: Send an HTTP request to the URL\n",
    "url = 'https://gestiona.comunidad.madrid/nomecalles/ListaCalles.icm?munic=079&letra_inicial=A'\n",
    "response = requests.get(url)\n",
    "\n",
    "# Check if the request was successful (status code 200)\n",
    "if response.status_code == 200:\n",
    "    # Step 2: Parse the HTML content with BeautifulSoup\n",
    "    soup = BeautifulSoup(response.text, 'html.parser')\n",
    "    \n",
    "    # Step 3: Navigate and extract data\n",
    "    # In this example, we assume article titles are enclosed in <h2> tags.\n",
    "    article_titles = soup.find_all('h2')\n",
    "    \n",
    "    # Print the extracted article titles\n",
    "    for title in article_titles:\n",
    "        print(title.text)\n",
    "else:\n",
    "    print('Failed to retrieve the webpage. Status code:', response.status_code)\n"
   ]
  },
  {
   "cell_type": "code",
   "execution_count": 10,
   "metadata": {},
   "outputs": [
    {
     "data": {
      "text/plain": [
       "<table cellpadding=\"0\" cellspacing=\"0\" width=\"100%\">\n",
       "<tr>\n",
       "<td nowrap=\"nowrap\" width=\"20%\">\n",
       "<img border=\"0\" src=\"/nomecalles/IconoUsuario.icm?usuario=munic079\"/>\n",
       "</td>\n",
       "<td align=\"center\" width=\"60%\">\n",
       "<table width=\"100%\">\n",
       "<tr>\n",
       "<td align=\"center\">\n",
       "<center>\n",
       "<script language=\"JavaScript\" type=\"text/javascript\">\n",
       "\t\t\t\t\t\t\t\t\t\t\tif (screen.width<1024)\n",
       "\t\t\t\t\t\t\t\t\t\t\t{\n",
       "\t\t\t\t\t\t\t\t\t\t\t\tdocument.write('<font face=\"arial\" style=\"color:#0082c8\" size=\"3\">');\n",
       "\t\t\t\t\t\t\t\t\t\t\t}\n",
       "\t\t\t\t\t\t\t\t\t\t\telse\n",
       "\t\t\t\t\t\t\t\t\t   \t\t{\n",
       "\t\t\t\t\t\t\t\t\t   \t\t\tif (screen.width<1280)\n",
       "\t\t\t\t\t\t\t\t\t      \t\t{\n",
       "\t\t\t\t\t\t\t\t\t      \t\t\tdocument.write('<font face=\"arial\" style=\"color:#0082c8\" size=\"4\">');\n",
       "\t\t\t\t\t\t\t\t\t\t\t\t}\n",
       "\t\t\t\t\t\t\t\t\t   \t\t\telse\n",
       "\t\t\t\t\t\t\t\t\t   \t\t\t{\n",
       "\t\t\t\t\t\t\t\t\t   \t\t\t\tdocument.write('<font face=\"arial\" style=\"color:#0082c8\" size=\"5\">');\n",
       "\t\t\t\t\t\t\t\t\t\t\t\t}\n",
       "\t\t\t\t\t\t\t\t\t\t\t}\n",
       "\t\t\t\t\t\t\t\t\t\t</script>\n",
       "<input id=\"descripcionUsuario\" name=\"descripcionUsuario\" type=\"hidden\" value=\"\"/>\n",
       "<input id=\"iconoUsuario\" name=\"iconoUsuario\" type=\"hidden\" value=\"munic079\"/>\n",
       "<label>\n",
       "<b></b>\n",
       "</label>\n",
       "</center>\n",
       "</td>\n",
       "</tr>\n",
       "</table>\n",
       "</td>\n",
       "<td nowrap=\"nowrap\" width=\"20%\">\n",
       "<div align=\"right\">\n",
       "<script language=\"JavaScript\" type=\"text/javascript\">\n",
       "\t\t\t\t\t\t\tif (screen.width<1024)\n",
       "\t\t\t\t\t\t\t{\n",
       "\t\t\t\t\t\t\t   document.write('<img border=\"0\" id=\"iecm\" src=\"/nomecalles/graficos/iconofijopequeUsuario.gif\">');\n",
       "\t\t\t\t\t\t\t}\n",
       "\t\t\t\t\t\t\telse\n",
       "\t\t\t\t\t   \t\t{\n",
       "\t\t\t\t\t   \t\t\tif (screen.width<1280)\n",
       "\t\t\t\t\t      \t\t{\n",
       "\t\t\t\t\t\t\t\t   document.write('<img border=\"0\" id=\"iecm\" src=\"/nomecalles/graficos/iconofijomedioUsuario.gif\">');\n",
       "\t\t\t\t\t\t\t\t}\n",
       "\t\t\t\t\t   \t\t\telse\n",
       "\t\t\t\t\t   \t\t\t{\n",
       "\t\t\t\t\t\t\t\t   document.write('<img border=\"0\" id=\"iecm\" src=\"/nomecalles/graficos/iconofijoUsuario.gif\">');\n",
       "\t\t\t\t\t\t\t\t}\n",
       "\t\t\t\t\t\t\t}\n",
       "\t\t\t\t\t\t\t</script>\n",
       "</div>\n",
       "</td>\n",
       "</tr>\n",
       "</table>"
      ]
     },
     "execution_count": 10,
     "metadata": {},
     "output_type": "execute_result"
    }
   ],
   "source": [
    "soup.table"
   ]
  }
 ],
 "metadata": {
  "interpreter": {
   "hash": "bcdc425d517deb9e216693a9add6673374e5d52249ad1f984c9f7bda525a095e"
  },
  "kernelspec": {
   "display_name": "Python 3.9.13 ('base')",
   "language": "python",
   "name": "python3"
  },
  "language_info": {
   "codemirror_mode": {
    "name": "ipython",
    "version": 3
   },
   "file_extension": ".py",
   "mimetype": "text/x-python",
   "name": "python",
   "nbconvert_exporter": "python",
   "pygments_lexer": "ipython3",
   "version": "3.9.13"
  },
  "orig_nbformat": 4
 },
 "nbformat": 4,
 "nbformat_minor": 2
}
